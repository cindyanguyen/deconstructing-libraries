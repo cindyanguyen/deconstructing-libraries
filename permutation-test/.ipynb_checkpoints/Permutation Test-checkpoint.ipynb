{
 "cells": [
  {
   "cell_type": "code",
   "execution_count": 191,
   "metadata": {
    "collapsed": true
   },
   "outputs": [],
   "source": [
    "import random"
   ]
  },
  {
   "cell_type": "code",
   "execution_count": 192,
   "metadata": {
    "collapsed": false
   },
   "outputs": [],
   "source": [
    "sourcefile = open('82-87-topics-final.txt', encoding='utf-16-le')"
   ]
  },
  {
   "cell_type": "code",
   "execution_count": 193,
   "metadata": {
    "collapsed": false
   },
   "outputs": [],
   "source": [
    "fileobj = sourcefile.read()"
   ]
  },
  {
   "cell_type": "code",
   "execution_count": 194,
   "metadata": {
    "collapsed": false
   },
   "outputs": [],
   "source": [
    "rows = fileobj.split('\\n')\n",
    "topics = [row.split('\\t') for row in rows]"
   ]
  },
  {
   "cell_type": "code",
   "execution_count": 195,
   "metadata": {
    "collapsed": false
   },
   "outputs": [
    {
     "name": "stdout",
     "output_type": "stream",
     "text": [
      "100\n"
     ]
    }
   ],
   "source": [
    "true_avgs_hanoi = []\n",
    "true_avgs_saigon = []\n",
    "for x in range(0,100):\n",
    "    true_avgs_hanoi.append(0)\n",
    "    true_avgs_saigon.append(0)\n",
    "    \n",
    "print(len(true_avgs_hanoi))"
   ]
  },
  {
   "cell_type": "code",
   "execution_count": 196,
   "metadata": {
    "collapsed": false
   },
   "outputs": [],
   "source": [
    "count_hanoi_docs = 0\n",
    "count_saigon_docs = 0\n",
    "labels = []\n",
    "\n",
    "for doc in topics:\n",
    "    counter = 0\n",
    "    if doc[103] == 'null':\n",
    "        pass\n",
    "    elif doc[103] == 'Hanoi':\n",
    "        labels.append('Hanoi')\n",
    "        count_hanoi_docs +=1\n",
    "        for topic in doc[2:101]:\n",
    "            true_avgs_hanoi[counter] = true_avgs_hanoi[counter] + float(topic)\n",
    "            counter +=1\n",
    "            \n",
    "    elif (doc[103] == 'Saigon') or (doc[103] == 'Ho Chi Minh City'):\n",
    "        labels.append('Saigon')\n",
    "        count_saigon_docs +=1\n",
    "        for topic in doc[2:101]:\n",
    "            true_avgs_saigon[counter] = true_avgs_saigon[counter] + float(topic)\n",
    "            counter +=1\n",
    "            \n",
    "            "
   ]
  },
  {
   "cell_type": "code",
   "execution_count": 197,
   "metadata": {
    "collapsed": false
   },
   "outputs": [
    {
     "name": "stdout",
     "output_type": "stream",
     "text": [
      "3166\n"
     ]
    }
   ],
   "source": [
    "print(len(labels))"
   ]
  },
  {
   "cell_type": "code",
   "execution_count": 198,
   "metadata": {
    "collapsed": false
   },
   "outputs": [],
   "source": [
    "for x in true_avgs_hanoi:\n",
    "    x = x/count_hanoi_docs\n",
    "\n",
    "for y in true_avgs_saigon:\n",
    "    y = y/count_saigon_docs"
   ]
  },
  {
   "cell_type": "code",
   "execution_count": 199,
   "metadata": {
    "collapsed": false
   },
   "outputs": [],
   "source": [
    "true_diffs = []\n",
    "for x in range(0, len(true_avgs_hanoi)):\n",
    "    true_diffs.append(abs((true_avgs_hanoi[x]/count_hanoi_docs) - (true_avgs_saigon[x]/count_saigon_docs)))\n"
   ]
  },
  {
   "cell_type": "code",
   "execution_count": 200,
   "metadata": {
    "collapsed": false
   },
   "outputs": [
    {
     "data": {
      "text/plain": [
       "0.0"
      ]
     },
     "execution_count": 200,
     "metadata": {},
     "output_type": "execute_result"
    }
   ],
   "source": [
    "true_diffs[99]"
   ]
  },
  {
   "cell_type": "code",
   "execution_count": 201,
   "metadata": {
    "collapsed": false
   },
   "outputs": [
    {
     "name": "stdout",
     "output_type": "stream",
     "text": [
      "0\n",
      "100\n",
      "200\n",
      "300\n",
      "400\n",
      "500\n",
      "600\n",
      "700\n",
      "800\n",
      "900\n",
      "1000\n",
      "1100\n",
      "1200\n",
      "1300\n",
      "1400\n",
      "1500\n",
      "1600\n",
      "1700\n",
      "1800\n",
      "1900\n",
      "2000\n",
      "2100\n",
      "2200\n",
      "2300\n",
      "2400\n",
      "2500\n",
      "2600\n",
      "2700\n",
      "2800\n",
      "2900\n",
      "3000\n",
      "3100\n",
      "3200\n",
      "3300\n",
      "3400\n",
      "3500\n",
      "3600\n",
      "3700\n",
      "3800\n",
      "3900\n",
      "4000\n",
      "4100\n",
      "4200\n",
      "4300\n",
      "4400\n",
      "4500\n",
      "4600\n",
      "4700\n",
      "4800\n",
      "4900\n",
      "5000\n",
      "5100\n",
      "5200\n",
      "5300\n",
      "5400\n",
      "5500\n",
      "5600\n",
      "5700\n",
      "5800\n",
      "5900\n",
      "6000\n",
      "6100\n",
      "6200\n",
      "6300\n",
      "6400\n",
      "6500\n",
      "6600\n",
      "6700\n",
      "6800\n",
      "6900\n",
      "7000\n",
      "7100\n",
      "7200\n",
      "7300\n",
      "7400\n",
      "7500\n",
      "7600\n",
      "7700\n",
      "7800\n",
      "7900\n",
      "8000\n",
      "8100\n",
      "8200\n",
      "8300\n",
      "8400\n",
      "8500\n",
      "8600\n",
      "8700\n",
      "8800\n",
      "8900\n",
      "9000\n",
      "9100\n",
      "9200\n",
      "9300\n",
      "9400\n",
      "9500\n",
      "9600\n",
      "9700\n",
      "9800\n",
      "9900\n"
     ]
    }
   ],
   "source": [
    "repetitions = 10000\n",
    "permresults = []\n",
    "for b in range(0, repetitions):\n",
    "    if b%100 == 0:\n",
    "        print(b)\n",
    "    \n",
    "    random.shuffle(labels)\n",
    "    perm_diffs = []\n",
    "    perm_avgs_hanoi = []\n",
    "    perm_avgs_saigon = []\n",
    "    for x in range(0,100):\n",
    "        perm_avgs_hanoi.append(0)\n",
    "        perm_avgs_saigon.append(0)\n",
    "    \n",
    "    for doc in topics:\n",
    "        rec_counter = 0\n",
    "        counter = 0\n",
    "        if doc[103] == 'null':\n",
    "            pass\n",
    "            #ignore non-labeled docs\n",
    "        elif (doc[103] == 'Hanoi') or (doc[103] == 'Saigon') or (doc[103] == 'Ho Chi Minh City'):\n",
    "            if labels[rec_counter] == 'Hanoi':\n",
    "                for topic in doc[2:102]:\n",
    "                    perm_avgs_hanoi[counter] = perm_avgs_hanoi[counter] + float(topic)\n",
    "                    counter +=1\n",
    "            elif (labels[rec_counter] == 'Saigon') or (labels[rec_counter] == 'Ho Chi Minh City'):\n",
    "                for topic in doc[2:102]:\n",
    "                    perm_avgs_saigon[counter] = perm_avgs_saigon[counter] + float(topic)\n",
    "                    counter +=1\n",
    "            rec_counter +=1\n",
    "        #print(labels[rec_counter])\n",
    "    for x in range(0, 100):\n",
    "        perm_diffs.append(abs((perm_avgs_hanoi[x]/count_hanoi_docs) - (perm_avgs_saigon[x]/count_saigon_docs)))\n",
    "    \n",
    "    topicdiffs = []\n",
    "    for numbah in range(0,len(perm_diffs)):\n",
    "        if perm_diffs[numbah] > true_diffs[numbah]:\n",
    "            topicdiffs.append(True)\n",
    "        else:\n",
    "            topicdiffs.append(False)\n",
    "    permresults.append(topicdiffs)\n",
    "    "
   ]
  },
  {
   "cell_type": "code",
   "execution_count": 202,
   "metadata": {
    "collapsed": false
   },
   "outputs": [],
   "source": [
    "#the number of times the random difference in mean was greater than the actual one\n",
    "diffsums = []\n",
    "for x in range(0,100):\n",
    "    diffsums.append(0)\n",
    "for x in range(0, 100):\n",
    "    for y in permresults:\n",
    "        if y[x] == True:\n",
    "            diffsums[x] +=1"
   ]
  },
  {
   "cell_type": "code",
   "execution_count": 205,
   "metadata": {
    "collapsed": false
   },
   "outputs": [
    {
     "name": "stdout",
     "output_type": "stream",
     "text": [
      "[10000, 10000, 10000, 10000, 10000, 10000, 10000, 10000, 10000, 10000, 10000, 10000, 10000, 10000, 10000, 10000, 10000, 10000, 10000, 10000, 10000, 10000, 10000, 10000, 10000, 10000, 10000, 10000, 10000, 10000, 10000, 10000, 10000, 10000, 10000, 10000, 10000, 10000, 10000, 10000, 10000, 10000, 10000, 10000, 10000, 10000, 10000, 10000, 10000, 10000, 10000, 10000, 10000, 10000, 10000, 10000, 10000, 10000, 10000, 10000, 10000, 3615, 10000, 10000, 10000, 10000, 10000, 10000, 10000, 10000, 10000, 10000, 10000, 10000, 10000, 10000, 10000, 10000, 10000, 10000, 10000, 10000, 10000, 10000, 10000, 10000, 10000, 10000, 10000, 10000, 10000, 10000, 10000, 10000, 10000, 10000, 10000, 10000, 10000, 10000]\n",
      "\n",
      "\n",
      "61\n"
     ]
    }
   ],
   "source": [
    "#if this is correct, the absolute value of the difference in randomly permutated means exceeds the actual difference\n",
    "#in means every time, except for topic 61, but that is not significant (.3615)\n",
    "print(diffsums)\n",
    "print('\\n')\n",
    "print(diffsums.index(3615))"
   ]
  }
 ],
 "metadata": {
  "kernelspec": {
   "display_name": "Python 3",
   "language": "python",
   "name": "python3"
  },
  "language_info": {
   "codemirror_mode": {
    "name": "ipython",
    "version": 3
   },
   "file_extension": ".py",
   "mimetype": "text/x-python",
   "name": "python",
   "nbconvert_exporter": "python",
   "pygments_lexer": "ipython3",
   "version": "3.5.1"
  }
 },
 "nbformat": 4,
 "nbformat_minor": 0
}
